{
 "cells": [
  {
   "cell_type": "markdown",
   "metadata": {},
   "source": [
    "# Gather"
   ]
  },
  {
   "cell_type": "code",
   "execution_count": 2,
   "metadata": {},
   "outputs": [],
   "source": [
    "import pandas as pd\n",
    "import numpy as np"
   ]
  },
  {
   "cell_type": "code",
   "execution_count": 3,
   "metadata": {},
   "outputs": [],
   "source": [
    "adult = pd.read_csv('adult.data.csv')"
   ]
  },
  {
   "cell_type": "markdown",
   "metadata": {},
   "source": [
    "# Assess"
   ]
  },
  {
   "cell_type": "code",
   "execution_count": 4,
   "metadata": {},
   "outputs": [
    {
     "data": {
      "text/html": [
       "<div>\n",
       "<style scoped>\n",
       "    .dataframe tbody tr th:only-of-type {\n",
       "        vertical-align: middle;\n",
       "    }\n",
       "\n",
       "    .dataframe tbody tr th {\n",
       "        vertical-align: top;\n",
       "    }\n",
       "\n",
       "    .dataframe thead th {\n",
       "        text-align: right;\n",
       "    }\n",
       "</style>\n",
       "<table border=\"1\" class=\"dataframe\">\n",
       "  <thead>\n",
       "    <tr style=\"text-align: right;\">\n",
       "      <th></th>\n",
       "      <th>age</th>\n",
       "      <th>workclass</th>\n",
       "      <th>fnlwgt</th>\n",
       "      <th>education</th>\n",
       "      <th>educationN</th>\n",
       "      <th>maritalStatus</th>\n",
       "      <th>occupation</th>\n",
       "      <th>relationship</th>\n",
       "      <th>race</th>\n",
       "      <th>sex</th>\n",
       "      <th>capitalGain</th>\n",
       "      <th>capitalloss</th>\n",
       "      <th>hoursPerWeek</th>\n",
       "      <th>country</th>\n",
       "      <th>salary</th>\n",
       "    </tr>\n",
       "  </thead>\n",
       "  <tbody>\n",
       "    <tr>\n",
       "      <th>0</th>\n",
       "      <td>39</td>\n",
       "      <td>State-gov</td>\n",
       "      <td>77516</td>\n",
       "      <td>Bachelors</td>\n",
       "      <td>13</td>\n",
       "      <td>Never-married</td>\n",
       "      <td>Adm-clerical</td>\n",
       "      <td>Not-in-family</td>\n",
       "      <td>White</td>\n",
       "      <td>Male</td>\n",
       "      <td>2174</td>\n",
       "      <td>0</td>\n",
       "      <td>40</td>\n",
       "      <td>United-States</td>\n",
       "      <td>&lt;=50K</td>\n",
       "    </tr>\n",
       "    <tr>\n",
       "      <th>1</th>\n",
       "      <td>50</td>\n",
       "      <td>Self-emp-not-inc</td>\n",
       "      <td>83311</td>\n",
       "      <td>Bachelors</td>\n",
       "      <td>13</td>\n",
       "      <td>Married-civ-spouse</td>\n",
       "      <td>Exec-managerial</td>\n",
       "      <td>Husband</td>\n",
       "      <td>White</td>\n",
       "      <td>Male</td>\n",
       "      <td>0</td>\n",
       "      <td>0</td>\n",
       "      <td>13</td>\n",
       "      <td>United-States</td>\n",
       "      <td>&lt;=50K</td>\n",
       "    </tr>\n",
       "    <tr>\n",
       "      <th>2</th>\n",
       "      <td>38</td>\n",
       "      <td>Private</td>\n",
       "      <td>215646</td>\n",
       "      <td>HS-grad</td>\n",
       "      <td>9</td>\n",
       "      <td>Divorced</td>\n",
       "      <td>Handlers-cleaners</td>\n",
       "      <td>Not-in-family</td>\n",
       "      <td>White</td>\n",
       "      <td>Male</td>\n",
       "      <td>0</td>\n",
       "      <td>0</td>\n",
       "      <td>40</td>\n",
       "      <td>United-States</td>\n",
       "      <td>&lt;=50K</td>\n",
       "    </tr>\n",
       "    <tr>\n",
       "      <th>3</th>\n",
       "      <td>53</td>\n",
       "      <td>Private</td>\n",
       "      <td>234721</td>\n",
       "      <td>11th</td>\n",
       "      <td>7</td>\n",
       "      <td>Married-civ-spouse</td>\n",
       "      <td>Handlers-cleaners</td>\n",
       "      <td>Husband</td>\n",
       "      <td>Black</td>\n",
       "      <td>Male</td>\n",
       "      <td>0</td>\n",
       "      <td>0</td>\n",
       "      <td>40</td>\n",
       "      <td>United-States</td>\n",
       "      <td>&lt;=50K</td>\n",
       "    </tr>\n",
       "    <tr>\n",
       "      <th>4</th>\n",
       "      <td>28</td>\n",
       "      <td>Private</td>\n",
       "      <td>338409</td>\n",
       "      <td>Bachelors</td>\n",
       "      <td>13</td>\n",
       "      <td>Married-civ-spouse</td>\n",
       "      <td>Prof-specialty</td>\n",
       "      <td>Wife</td>\n",
       "      <td>Black</td>\n",
       "      <td>Female</td>\n",
       "      <td>0</td>\n",
       "      <td>0</td>\n",
       "      <td>40</td>\n",
       "      <td>Cuba</td>\n",
       "      <td>&lt;=50K</td>\n",
       "    </tr>\n",
       "    <tr>\n",
       "      <th>...</th>\n",
       "      <td>...</td>\n",
       "      <td>...</td>\n",
       "      <td>...</td>\n",
       "      <td>...</td>\n",
       "      <td>...</td>\n",
       "      <td>...</td>\n",
       "      <td>...</td>\n",
       "      <td>...</td>\n",
       "      <td>...</td>\n",
       "      <td>...</td>\n",
       "      <td>...</td>\n",
       "      <td>...</td>\n",
       "      <td>...</td>\n",
       "      <td>...</td>\n",
       "      <td>...</td>\n",
       "    </tr>\n",
       "    <tr>\n",
       "      <th>32556</th>\n",
       "      <td>27</td>\n",
       "      <td>Private</td>\n",
       "      <td>257302</td>\n",
       "      <td>Assoc-acdm</td>\n",
       "      <td>12</td>\n",
       "      <td>Married-civ-spouse</td>\n",
       "      <td>Tech-support</td>\n",
       "      <td>Wife</td>\n",
       "      <td>White</td>\n",
       "      <td>Female</td>\n",
       "      <td>0</td>\n",
       "      <td>0</td>\n",
       "      <td>38</td>\n",
       "      <td>United-States</td>\n",
       "      <td>&lt;=50K</td>\n",
       "    </tr>\n",
       "    <tr>\n",
       "      <th>32557</th>\n",
       "      <td>40</td>\n",
       "      <td>Private</td>\n",
       "      <td>154374</td>\n",
       "      <td>HS-grad</td>\n",
       "      <td>9</td>\n",
       "      <td>Married-civ-spouse</td>\n",
       "      <td>Machine-op-inspct</td>\n",
       "      <td>Husband</td>\n",
       "      <td>White</td>\n",
       "      <td>Male</td>\n",
       "      <td>0</td>\n",
       "      <td>0</td>\n",
       "      <td>40</td>\n",
       "      <td>United-States</td>\n",
       "      <td>&gt;50K</td>\n",
       "    </tr>\n",
       "    <tr>\n",
       "      <th>32558</th>\n",
       "      <td>58</td>\n",
       "      <td>Private</td>\n",
       "      <td>151910</td>\n",
       "      <td>HS-grad</td>\n",
       "      <td>9</td>\n",
       "      <td>Widowed</td>\n",
       "      <td>Adm-clerical</td>\n",
       "      <td>Unmarried</td>\n",
       "      <td>White</td>\n",
       "      <td>Female</td>\n",
       "      <td>0</td>\n",
       "      <td>0</td>\n",
       "      <td>40</td>\n",
       "      <td>United-States</td>\n",
       "      <td>&lt;=50K</td>\n",
       "    </tr>\n",
       "    <tr>\n",
       "      <th>32559</th>\n",
       "      <td>22</td>\n",
       "      <td>Private</td>\n",
       "      <td>201490</td>\n",
       "      <td>HS-grad</td>\n",
       "      <td>9</td>\n",
       "      <td>Never-married</td>\n",
       "      <td>Adm-clerical</td>\n",
       "      <td>Own-child</td>\n",
       "      <td>White</td>\n",
       "      <td>Male</td>\n",
       "      <td>0</td>\n",
       "      <td>0</td>\n",
       "      <td>20</td>\n",
       "      <td>United-States</td>\n",
       "      <td>&lt;=50K</td>\n",
       "    </tr>\n",
       "    <tr>\n",
       "      <th>32560</th>\n",
       "      <td>52</td>\n",
       "      <td>Self-emp-inc</td>\n",
       "      <td>287927</td>\n",
       "      <td>HS-grad</td>\n",
       "      <td>9</td>\n",
       "      <td>Married-civ-spouse</td>\n",
       "      <td>Exec-managerial</td>\n",
       "      <td>Wife</td>\n",
       "      <td>White</td>\n",
       "      <td>Female</td>\n",
       "      <td>15024</td>\n",
       "      <td>0</td>\n",
       "      <td>40</td>\n",
       "      <td>United-States</td>\n",
       "      <td>&gt;50K</td>\n",
       "    </tr>\n",
       "  </tbody>\n",
       "</table>\n",
       "<p>32561 rows × 15 columns</p>\n",
       "</div>"
      ],
      "text/plain": [
       "       age         workclass  fnlwgt   education  educationN  \\\n",
       "0       39         State-gov   77516   Bachelors          13   \n",
       "1       50  Self-emp-not-inc   83311   Bachelors          13   \n",
       "2       38           Private  215646     HS-grad           9   \n",
       "3       53           Private  234721        11th           7   \n",
       "4       28           Private  338409   Bachelors          13   \n",
       "...    ...               ...     ...         ...         ...   \n",
       "32556   27           Private  257302  Assoc-acdm          12   \n",
       "32557   40           Private  154374     HS-grad           9   \n",
       "32558   58           Private  151910     HS-grad           9   \n",
       "32559   22           Private  201490     HS-grad           9   \n",
       "32560   52      Self-emp-inc  287927     HS-grad           9   \n",
       "\n",
       "            maritalStatus         occupation   relationship   race     sex  \\\n",
       "0           Never-married       Adm-clerical  Not-in-family  White    Male   \n",
       "1      Married-civ-spouse    Exec-managerial        Husband  White    Male   \n",
       "2                Divorced  Handlers-cleaners  Not-in-family  White    Male   \n",
       "3      Married-civ-spouse  Handlers-cleaners        Husband  Black    Male   \n",
       "4      Married-civ-spouse     Prof-specialty           Wife  Black  Female   \n",
       "...                   ...                ...            ...    ...     ...   \n",
       "32556  Married-civ-spouse       Tech-support           Wife  White  Female   \n",
       "32557  Married-civ-spouse  Machine-op-inspct        Husband  White    Male   \n",
       "32558             Widowed       Adm-clerical      Unmarried  White  Female   \n",
       "32559       Never-married       Adm-clerical      Own-child  White    Male   \n",
       "32560  Married-civ-spouse    Exec-managerial           Wife  White  Female   \n",
       "\n",
       "       capitalGain  capitalloss  hoursPerWeek        country salary  \n",
       "0             2174            0            40  United-States  <=50K  \n",
       "1                0            0            13  United-States  <=50K  \n",
       "2                0            0            40  United-States  <=50K  \n",
       "3                0            0            40  United-States  <=50K  \n",
       "4                0            0            40           Cuba  <=50K  \n",
       "...            ...          ...           ...            ...    ...  \n",
       "32556            0            0            38  United-States  <=50K  \n",
       "32557            0            0            40  United-States   >50K  \n",
       "32558            0            0            40  United-States  <=50K  \n",
       "32559            0            0            20  United-States  <=50K  \n",
       "32560        15024            0            40  United-States   >50K  \n",
       "\n",
       "[32561 rows x 15 columns]"
      ]
     },
     "execution_count": 4,
     "metadata": {},
     "output_type": "execute_result"
    }
   ],
   "source": [
    "adult"
   ]
  },
  {
   "cell_type": "code",
   "execution_count": 5,
   "metadata": {},
   "outputs": [
    {
     "name": "stdout",
     "output_type": "stream",
     "text": [
      "<class 'pandas.core.frame.DataFrame'>\n",
      "RangeIndex: 32561 entries, 0 to 32560\n",
      "Data columns (total 15 columns):\n",
      " #   Column         Non-Null Count  Dtype \n",
      "---  ------         --------------  ----- \n",
      " 0   age            32561 non-null  int64 \n",
      " 1   workclass      32561 non-null  object\n",
      " 2   fnlwgt         32561 non-null  int64 \n",
      " 3   education      32561 non-null  object\n",
      " 4   educationN     32561 non-null  int64 \n",
      " 5   maritalStatus  32561 non-null  object\n",
      " 6   occupation     32561 non-null  object\n",
      " 7   relationship   32561 non-null  object\n",
      " 8   race           32561 non-null  object\n",
      " 9   sex            32561 non-null  object\n",
      " 10  capitalGain    32561 non-null  int64 \n",
      " 11  capitalloss    32561 non-null  int64 \n",
      " 12  hoursPerWeek   32561 non-null  int64 \n",
      " 13  country        32561 non-null  object\n",
      " 14  salary         32561 non-null  object\n",
      "dtypes: int64(6), object(9)\n",
      "memory usage: 3.7+ MB\n"
     ]
    }
   ],
   "source": [
    "adult.info()"
   ]
  },
  {
   "cell_type": "code",
   "execution_count": 6,
   "metadata": {},
   "outputs": [
    {
     "data": {
      "text/plain": [
       "['age',\n",
       " 'workclass',\n",
       " 'fnlwgt',\n",
       " 'education',\n",
       " 'educationN',\n",
       " 'maritalStatus',\n",
       " 'occupation',\n",
       " 'relationship',\n",
       " 'race',\n",
       " 'sex',\n",
       " 'capitalGain',\n",
       " 'capitalloss',\n",
       " 'hoursPerWeek',\n",
       " 'country',\n",
       " 'salary']"
      ]
     },
     "execution_count": 6,
     "metadata": {},
     "output_type": "execute_result"
    }
   ],
   "source": [
    "list(adult)"
   ]
  },
  {
   "cell_type": "code",
   "execution_count": 7,
   "metadata": {},
   "outputs": [
    {
     "data": {
      "text/html": [
       "<div>\n",
       "<style scoped>\n",
       "    .dataframe tbody tr th:only-of-type {\n",
       "        vertical-align: middle;\n",
       "    }\n",
       "\n",
       "    .dataframe tbody tr th {\n",
       "        vertical-align: top;\n",
       "    }\n",
       "\n",
       "    .dataframe thead th {\n",
       "        text-align: right;\n",
       "    }\n",
       "</style>\n",
       "<table border=\"1\" class=\"dataframe\">\n",
       "  <thead>\n",
       "    <tr style=\"text-align: right;\">\n",
       "      <th></th>\n",
       "      <th>age</th>\n",
       "      <th>fnlwgt</th>\n",
       "      <th>educationN</th>\n",
       "      <th>capitalGain</th>\n",
       "      <th>capitalloss</th>\n",
       "      <th>hoursPerWeek</th>\n",
       "    </tr>\n",
       "  </thead>\n",
       "  <tbody>\n",
       "    <tr>\n",
       "      <th>count</th>\n",
       "      <td>32561.000000</td>\n",
       "      <td>3.256100e+04</td>\n",
       "      <td>32561.000000</td>\n",
       "      <td>32561.000000</td>\n",
       "      <td>32561.000000</td>\n",
       "      <td>32561.000000</td>\n",
       "    </tr>\n",
       "    <tr>\n",
       "      <th>mean</th>\n",
       "      <td>38.581647</td>\n",
       "      <td>1.897784e+05</td>\n",
       "      <td>10.080679</td>\n",
       "      <td>1077.648844</td>\n",
       "      <td>87.303830</td>\n",
       "      <td>40.437456</td>\n",
       "    </tr>\n",
       "    <tr>\n",
       "      <th>std</th>\n",
       "      <td>13.640433</td>\n",
       "      <td>1.055500e+05</td>\n",
       "      <td>2.572720</td>\n",
       "      <td>7385.292085</td>\n",
       "      <td>402.960219</td>\n",
       "      <td>12.347429</td>\n",
       "    </tr>\n",
       "    <tr>\n",
       "      <th>min</th>\n",
       "      <td>17.000000</td>\n",
       "      <td>1.228500e+04</td>\n",
       "      <td>1.000000</td>\n",
       "      <td>0.000000</td>\n",
       "      <td>0.000000</td>\n",
       "      <td>1.000000</td>\n",
       "    </tr>\n",
       "    <tr>\n",
       "      <th>25%</th>\n",
       "      <td>28.000000</td>\n",
       "      <td>1.178270e+05</td>\n",
       "      <td>9.000000</td>\n",
       "      <td>0.000000</td>\n",
       "      <td>0.000000</td>\n",
       "      <td>40.000000</td>\n",
       "    </tr>\n",
       "    <tr>\n",
       "      <th>50%</th>\n",
       "      <td>37.000000</td>\n",
       "      <td>1.783560e+05</td>\n",
       "      <td>10.000000</td>\n",
       "      <td>0.000000</td>\n",
       "      <td>0.000000</td>\n",
       "      <td>40.000000</td>\n",
       "    </tr>\n",
       "    <tr>\n",
       "      <th>75%</th>\n",
       "      <td>48.000000</td>\n",
       "      <td>2.370510e+05</td>\n",
       "      <td>12.000000</td>\n",
       "      <td>0.000000</td>\n",
       "      <td>0.000000</td>\n",
       "      <td>45.000000</td>\n",
       "    </tr>\n",
       "    <tr>\n",
       "      <th>max</th>\n",
       "      <td>90.000000</td>\n",
       "      <td>1.484705e+06</td>\n",
       "      <td>16.000000</td>\n",
       "      <td>99999.000000</td>\n",
       "      <td>4356.000000</td>\n",
       "      <td>99.000000</td>\n",
       "    </tr>\n",
       "  </tbody>\n",
       "</table>\n",
       "</div>"
      ],
      "text/plain": [
       "                age        fnlwgt    educationN   capitalGain   capitalloss  \\\n",
       "count  32561.000000  3.256100e+04  32561.000000  32561.000000  32561.000000   \n",
       "mean      38.581647  1.897784e+05     10.080679   1077.648844     87.303830   \n",
       "std       13.640433  1.055500e+05      2.572720   7385.292085    402.960219   \n",
       "min       17.000000  1.228500e+04      1.000000      0.000000      0.000000   \n",
       "25%       28.000000  1.178270e+05      9.000000      0.000000      0.000000   \n",
       "50%       37.000000  1.783560e+05     10.000000      0.000000      0.000000   \n",
       "75%       48.000000  2.370510e+05     12.000000      0.000000      0.000000   \n",
       "max       90.000000  1.484705e+06     16.000000  99999.000000   4356.000000   \n",
       "\n",
       "       hoursPerWeek  \n",
       "count  32561.000000  \n",
       "mean      40.437456  \n",
       "std       12.347429  \n",
       "min        1.000000  \n",
       "25%       40.000000  \n",
       "50%       40.000000  \n",
       "75%       45.000000  \n",
       "max       99.000000  "
      ]
     },
     "execution_count": 7,
     "metadata": {},
     "output_type": "execute_result"
    }
   ],
   "source": [
    "adult.describe()"
   ]
  },
  {
   "cell_type": "code",
   "execution_count": 8,
   "metadata": {},
   "outputs": [
    {
     "data": {
      "text/html": [
       "<div>\n",
       "<style scoped>\n",
       "    .dataframe tbody tr th:only-of-type {\n",
       "        vertical-align: middle;\n",
       "    }\n",
       "\n",
       "    .dataframe tbody tr th {\n",
       "        vertical-align: top;\n",
       "    }\n",
       "\n",
       "    .dataframe thead th {\n",
       "        text-align: right;\n",
       "    }\n",
       "</style>\n",
       "<table border=\"1\" class=\"dataframe\">\n",
       "  <thead>\n",
       "    <tr style=\"text-align: right;\">\n",
       "      <th></th>\n",
       "      <th>age</th>\n",
       "      <th>workclass</th>\n",
       "      <th>fnlwgt</th>\n",
       "      <th>education</th>\n",
       "      <th>educationN</th>\n",
       "      <th>maritalStatus</th>\n",
       "      <th>occupation</th>\n",
       "      <th>relationship</th>\n",
       "      <th>race</th>\n",
       "      <th>sex</th>\n",
       "      <th>capitalGain</th>\n",
       "      <th>capitalloss</th>\n",
       "      <th>hoursPerWeek</th>\n",
       "      <th>country</th>\n",
       "      <th>salary</th>\n",
       "    </tr>\n",
       "  </thead>\n",
       "  <tbody>\n",
       "    <tr>\n",
       "      <th>27210</th>\n",
       "      <td>37</td>\n",
       "      <td>Private</td>\n",
       "      <td>132879</td>\n",
       "      <td>HS-grad</td>\n",
       "      <td>9</td>\n",
       "      <td>Married-civ-spouse</td>\n",
       "      <td>Exec-managerial</td>\n",
       "      <td>Husband</td>\n",
       "      <td>White</td>\n",
       "      <td>Male</td>\n",
       "      <td>0</td>\n",
       "      <td>0</td>\n",
       "      <td>40</td>\n",
       "      <td>United-States</td>\n",
       "      <td>&gt;50K</td>\n",
       "    </tr>\n",
       "    <tr>\n",
       "      <th>12035</th>\n",
       "      <td>65</td>\n",
       "      <td>Self-emp-not-inc</td>\n",
       "      <td>22907</td>\n",
       "      <td>7th-8th</td>\n",
       "      <td>4</td>\n",
       "      <td>Married-civ-spouse</td>\n",
       "      <td>Farming-fishing</td>\n",
       "      <td>Husband</td>\n",
       "      <td>White</td>\n",
       "      <td>Male</td>\n",
       "      <td>0</td>\n",
       "      <td>0</td>\n",
       "      <td>40</td>\n",
       "      <td>United-States</td>\n",
       "      <td>&lt;=50K</td>\n",
       "    </tr>\n",
       "    <tr>\n",
       "      <th>20169</th>\n",
       "      <td>41</td>\n",
       "      <td>Private</td>\n",
       "      <td>171615</td>\n",
       "      <td>Assoc-acdm</td>\n",
       "      <td>12</td>\n",
       "      <td>Married-civ-spouse</td>\n",
       "      <td>Tech-support</td>\n",
       "      <td>Husband</td>\n",
       "      <td>White</td>\n",
       "      <td>Male</td>\n",
       "      <td>0</td>\n",
       "      <td>0</td>\n",
       "      <td>45</td>\n",
       "      <td>United-States</td>\n",
       "      <td>&gt;50K</td>\n",
       "    </tr>\n",
       "    <tr>\n",
       "      <th>28592</th>\n",
       "      <td>24</td>\n",
       "      <td>Self-emp-not-inc</td>\n",
       "      <td>35448</td>\n",
       "      <td>HS-grad</td>\n",
       "      <td>9</td>\n",
       "      <td>Separated</td>\n",
       "      <td>Other-service</td>\n",
       "      <td>Unmarried</td>\n",
       "      <td>White</td>\n",
       "      <td>Female</td>\n",
       "      <td>0</td>\n",
       "      <td>0</td>\n",
       "      <td>50</td>\n",
       "      <td>United-States</td>\n",
       "      <td>&lt;=50K</td>\n",
       "    </tr>\n",
       "    <tr>\n",
       "      <th>12824</th>\n",
       "      <td>36</td>\n",
       "      <td>Private</td>\n",
       "      <td>257691</td>\n",
       "      <td>Bachelors</td>\n",
       "      <td>13</td>\n",
       "      <td>Never-married</td>\n",
       "      <td>Sales</td>\n",
       "      <td>Not-in-family</td>\n",
       "      <td>White</td>\n",
       "      <td>Female</td>\n",
       "      <td>0</td>\n",
       "      <td>0</td>\n",
       "      <td>20</td>\n",
       "      <td>United-States</td>\n",
       "      <td>&lt;=50K</td>\n",
       "    </tr>\n",
       "  </tbody>\n",
       "</table>\n",
       "</div>"
      ],
      "text/plain": [
       "       age         workclass  fnlwgt   education  educationN  \\\n",
       "27210   37           Private  132879     HS-grad           9   \n",
       "12035   65  Self-emp-not-inc   22907     7th-8th           4   \n",
       "20169   41           Private  171615  Assoc-acdm          12   \n",
       "28592   24  Self-emp-not-inc   35448     HS-grad           9   \n",
       "12824   36           Private  257691   Bachelors          13   \n",
       "\n",
       "            maritalStatus       occupation   relationship   race     sex  \\\n",
       "27210  Married-civ-spouse  Exec-managerial        Husband  White    Male   \n",
       "12035  Married-civ-spouse  Farming-fishing        Husband  White    Male   \n",
       "20169  Married-civ-spouse     Tech-support        Husband  White    Male   \n",
       "28592           Separated    Other-service      Unmarried  White  Female   \n",
       "12824       Never-married            Sales  Not-in-family  White  Female   \n",
       "\n",
       "       capitalGain  capitalloss  hoursPerWeek        country salary  \n",
       "27210            0            0            40  United-States   >50K  \n",
       "12035            0            0            40  United-States  <=50K  \n",
       "20169            0            0            45  United-States   >50K  \n",
       "28592            0            0            50  United-States  <=50K  \n",
       "12824            0            0            20  United-States  <=50K  "
      ]
     },
     "execution_count": 8,
     "metadata": {},
     "output_type": "execute_result"
    }
   ],
   "source": [
    "adult.sample(5)"
   ]
  },
  {
   "cell_type": "markdown",
   "metadata": {},
   "source": [
    "# clean"
   ]
  },
  {
   "cell_type": "markdown",
   "metadata": {},
   "source": [
    "Get copy From original DataFrame"
   ]
  },
  {
   "cell_type": "code",
   "execution_count": 9,
   "metadata": {},
   "outputs": [],
   "source": [
    "adult_clean = adult.copy()"
   ]
  },
  {
   "cell_type": "markdown",
   "metadata": {},
   "source": [
    "Delete The Duplicated rows "
   ]
  },
  {
   "cell_type": "code",
   "execution_count": 10,
   "metadata": {},
   "outputs": [],
   "source": [
    "adult_clean=adult_clean.drop_duplicates()"
   ]
  },
  {
   "cell_type": "markdown",
   "metadata": {},
   "source": [
    "Delete Noisy Data "
   ]
  },
  {
   "cell_type": "code",
   "execution_count": 11,
   "metadata": {},
   "outputs": [],
   "source": [
    "adult_clean=adult_clean[adult_clean.workclass != '?']"
   ]
  },
  {
   "cell_type": "markdown",
   "metadata": {},
   "source": [
    "Convert realtionship values to (Single or Taken)"
   ]
  },
  {
   "cell_type": "code",
   "execution_count": 12,
   "metadata": {},
   "outputs": [],
   "source": [
    "status = {'Married-civ-spouse':'Taken','Never-married':'Single','Divorced':'Single','Separated':'Single'\n",
    "          ,'Widowed':'Single','Married-spouse-absent':'Taken','Married-AF-spouse':'Taken'}\n",
    "def relation(adult_clean):\n",
    "    if adult_clean['maritalStatus'] in status.keys():\n",
    "        relationship = status[adult_clean['maritalStatus']]\n",
    "        return relationship\n",
    "    else:\n",
    "        return adult_clean['maritalStatus']\n",
    "adult_clean['relationship']=adult_clean.apply(relation , axis = 1)"
   ]
  },
  {
   "cell_type": "markdown",
   "metadata": {},
   "source": [
    "Sex and relationship is category not object "
   ]
  },
  {
   "cell_type": "code",
   "execution_count": 13,
   "metadata": {},
   "outputs": [],
   "source": [
    "adult_clean.sex = adult_clean.sex.astype('category')\n",
    "adult_clean.relationship= adult_clean.relationship.astype('category')"
   ]
  },
  {
   "cell_type": "markdown",
   "metadata": {},
   "source": [
    "Fnlwgt is float "
   ]
  },
  {
   "cell_type": "code",
   "execution_count": 14,
   "metadata": {},
   "outputs": [],
   "source": [
    "adult_clean = adult_clean.astype({\"fnlwgt\": float})"
   ]
  },
  {
   "cell_type": "markdown",
   "metadata": {},
   "source": [
    "divide fnlwgt column into 1000 (Kg)"
   ]
  },
  {
   "cell_type": "code",
   "execution_count": 15,
   "metadata": {},
   "outputs": [],
   "source": [
    "adult_clean.fnlwgt = adult_clean.fnlwgt / 1000"
   ]
  },
  {
   "cell_type": "markdown",
   "metadata": {},
   "source": [
    "create timeWork column and fills it based on hoursPerWeek"
   ]
  },
  {
   "cell_type": "code",
   "execution_count": 16,
   "metadata": {},
   "outputs": [],
   "source": [
    "adult_clean = adult_clean.assign(timeWork=np.nan)"
   ]
  },
  {
   "cell_type": "code",
   "execution_count": 17,
   "metadata": {},
   "outputs": [],
   "source": [
    "def time(adult_clean):\n",
    "    if adult_clean.hoursPerWeek <= 25:\n",
    "        time = 'part time'\n",
    "        return time\n",
    "    elif adult_clean.hoursPerWeek <= 40:\n",
    "        time = 'full time'\n",
    "        return time\n",
    "    elif adult_clean.hoursPerWeek <= 60:\n",
    "        time = 'over time'\n",
    "        return time\n",
    "    elif adult_clean.hoursPerWeek > 60:\n",
    "        time = 'too much'\n",
    "        return time\n",
    "    else:\n",
    "        return adult_clean['hoursPerWeek']\n",
    "adult_clean['timeWork'] = adult_clean.apply(time ,axis = 1)"
   ]
  },
  {
   "cell_type": "code",
   "execution_count": 18,
   "metadata": {},
   "outputs": [],
   "source": [
    "adult_clean = adult_clean.drop('hoursPerWeek', axis=1)"
   ]
  },
  {
   "cell_type": "markdown",
   "metadata": {},
   "source": [
    "Setting abbreviation for country"
   ]
  },
  {
   "cell_type": "code",
   "execution_count": 19,
   "metadata": {},
   "outputs": [],
   "source": [
    "x = {'United-States': 'USA' ,'Cambodia':'CM','Laos':'LAO','Thailand':'TH','Yugoslavia':'SFRY','Hungary':'HU','Scotland':'SCT'\n",
    "    ,'Holand-Netherlands':'HL-NL','Outlying-US(Guam-USVI-etc)':'Outlying-US','Mexico':'MX','Philippines':'PH','Germany':'DE','Puerto-Rico':'PR','Canada':'CA','El-Salvador':'SV','India':'IN'\n",
    "     ,'Cuba':'CU','England':'UK','Jamaica':'JM','South':'South','Italy':'IT','China':'CN-CHN','Dominican-Republic':'DO'\n",
    "     ,'Vietnam':'VN','Guatemala':'GT','Japan':'JP', 'Columbia':'CO'\n",
    "     ,'Poland':'PL','Haiti':'HT','Taiwan':'TW','Iran':'IR','Portugal':'PT','Nicaragua':'NI','Peru':'PE',\n",
    "     'Greece':'GR','Ecuador':'EC','France':'FR','Ireland':'IE','Hong':'HK','Trinadad&Tobago':'TT','Honduras':'HN'}\n",
    "def abbrev(adult):\n",
    "    if adult['country'] in x.keys():\n",
    "        abbrecount = x[adult['country']]\n",
    "        return abbrecount\n",
    "    else:\n",
    "        return adult['country']\n",
    "adult_clean['country'] = adult_clean.apply(abbrev, axis=1)"
   ]
  },
  {
   "cell_type": "markdown",
   "metadata": {},
   "source": [
    "Merge capitallLoss and capitalGain in one column ( weight_change ) and divide it into 1000 (Kg)"
   ]
  },
  {
   "cell_type": "code",
   "execution_count": 20,
   "metadata": {},
   "outputs": [],
   "source": [
    "adult_clean = adult_clean.assign(weight_change=np.nan)\n",
    "adult_clean.weight_change = (adult_clean.capitalGain - adult_clean.capitalloss)\n",
    "adult_clean = adult_clean.drop('capitalGain', axis=1)\n",
    "adult_clean = adult_clean.drop('capitalloss', axis=1)\n",
    "adult_clean.weight_change = adult_clean.weight_change.astype(float) / 1000"
   ]
  },
  {
   "cell_type": "markdown",
   "metadata": {},
   "source": [
    "fill missing values by some statistic"
   ]
  },
  {
   "cell_type": "code",
   "execution_count": 21,
   "metadata": {},
   "outputs": [],
   "source": [
    "def CountryRace(adult_clean):\n",
    "    if adult_clean.country == '?':\n",
    "        \n",
    "        if adult_clean.race == 'White':\n",
    "            new_country = 'USA'\n",
    "            return new_country\n",
    "        \n",
    "        elif adult_clean.race == 'Black':\n",
    "            new_country = 'JM'\n",
    "            return new_country\n",
    "        \n",
    "        elif adult_clean.race == 'Asian-Pac-Islander':\n",
    "            new_country = 'PH'\n",
    "            return new_country\n",
    "        \n",
    "        elif adult_clean.race == 'Amer-Indian-Eskimo':\n",
    "            new_country = 'USA'\n",
    "            return new_country\n",
    "        \n",
    "        else:\n",
    "            new_country = 'USA'\n",
    "            return new_country\n",
    "    else:\n",
    "        return adult_clean['country']\n",
    "adult_clean['country'] = adult_clean.apply(CountryRace ,axis = 1)"
   ]
  },
  {
   "cell_type": "markdown",
   "metadata": {},
   "source": [
    "Delete Noisy data based on fnlwgt column "
   ]
  },
  {
   "cell_type": "code",
   "execution_count": 22,
   "metadata": {},
   "outputs": [],
   "source": [
    "adult_clean = adult_clean[adult_clean.fnlwgt >= 40]\n",
    "adult_clean = adult_clean[adult_clean.fnlwgt <= 350]"
   ]
  },
  {
   "cell_type": "markdown",
   "metadata": {},
   "source": [
    "No outliers"
   ]
  },
  {
   "cell_type": "code",
   "execution_count": 23,
   "metadata": {},
   "outputs": [
    {
     "data": {
      "text/plain": [
       "<matplotlib.axes._subplots.AxesSubplot at 0x1f2d753b790>"
      ]
     },
     "execution_count": 23,
     "metadata": {},
     "output_type": "execute_result"
    },
    {
     "data": {
      "image/png": "[encoded data removed]",
      "text/plain": [
       "<Figure size 432x288 with 1 Axes>"
      ]
     },
     "metadata": {
      "needs_background": "light"
     },
     "output_type": "display_data"
    }
   ],
   "source": [
    "adult_clean.fnlwgt.plot(kind = \"box\")"
   ]
  },
  {
   "cell_type": "markdown",
   "metadata": {},
   "source": [
    "Delete invalid data"
   ]
  },
  {
   "cell_type": "code",
   "execution_count": 24,
   "metadata": {},
   "outputs": [
    {
     "data": {
      "text/html": [
       "<div>\n",
       "<style scoped>\n",
       "    .dataframe tbody tr th:only-of-type {\n",
       "        vertical-align: middle;\n",
       "    }\n",
       "\n",
       "    .dataframe tbody tr th {\n",
       "        vertical-align: top;\n",
       "    }\n",
       "\n",
       "    .dataframe thead th {\n",
       "        text-align: right;\n",
       "    }\n",
       "</style>\n",
       "<table border=\"1\" class=\"dataframe\">\n",
       "  <thead>\n",
       "    <tr style=\"text-align: right;\">\n",
       "      <th></th>\n",
       "      <th>age</th>\n",
       "      <th>workclass</th>\n",
       "      <th>fnlwgt</th>\n",
       "      <th>education</th>\n",
       "      <th>educationN</th>\n",
       "      <th>maritalStatus</th>\n",
       "      <th>occupation</th>\n",
       "      <th>relationship</th>\n",
       "      <th>race</th>\n",
       "      <th>sex</th>\n",
       "      <th>country</th>\n",
       "      <th>salary</th>\n",
       "      <th>timeWork</th>\n",
       "      <th>weight_change</th>\n",
       "    </tr>\n",
       "  </thead>\n",
       "  <tbody>\n",
       "    <tr>\n",
       "      <th>5361</th>\n",
       "      <td>18</td>\n",
       "      <td>Never-worked</td>\n",
       "      <td>206.359</td>\n",
       "      <td>10th</td>\n",
       "      <td>6</td>\n",
       "      <td>Never-married</td>\n",
       "      <td>?</td>\n",
       "      <td>Single</td>\n",
       "      <td>White</td>\n",
       "      <td>Male</td>\n",
       "      <td>USA</td>\n",
       "      <td>&lt;=50K</td>\n",
       "      <td>full time</td>\n",
       "      <td>0.0</td>\n",
       "    </tr>\n",
       "    <tr>\n",
       "      <th>10845</th>\n",
       "      <td>23</td>\n",
       "      <td>Never-worked</td>\n",
       "      <td>188.535</td>\n",
       "      <td>7th-8th</td>\n",
       "      <td>4</td>\n",
       "      <td>Divorced</td>\n",
       "      <td>?</td>\n",
       "      <td>Single</td>\n",
       "      <td>White</td>\n",
       "      <td>Male</td>\n",
       "      <td>USA</td>\n",
       "      <td>&lt;=50K</td>\n",
       "      <td>full time</td>\n",
       "      <td>0.0</td>\n",
       "    </tr>\n",
       "    <tr>\n",
       "      <th>14772</th>\n",
       "      <td>17</td>\n",
       "      <td>Never-worked</td>\n",
       "      <td>237.272</td>\n",
       "      <td>10th</td>\n",
       "      <td>6</td>\n",
       "      <td>Never-married</td>\n",
       "      <td>?</td>\n",
       "      <td>Single</td>\n",
       "      <td>White</td>\n",
       "      <td>Male</td>\n",
       "      <td>USA</td>\n",
       "      <td>&lt;=50K</td>\n",
       "      <td>full time</td>\n",
       "      <td>0.0</td>\n",
       "    </tr>\n",
       "    <tr>\n",
       "      <th>20337</th>\n",
       "      <td>18</td>\n",
       "      <td>Never-worked</td>\n",
       "      <td>157.131</td>\n",
       "      <td>11th</td>\n",
       "      <td>7</td>\n",
       "      <td>Never-married</td>\n",
       "      <td>?</td>\n",
       "      <td>Single</td>\n",
       "      <td>White</td>\n",
       "      <td>Female</td>\n",
       "      <td>USA</td>\n",
       "      <td>&lt;=50K</td>\n",
       "      <td>part time</td>\n",
       "      <td>0.0</td>\n",
       "    </tr>\n",
       "    <tr>\n",
       "      <th>32304</th>\n",
       "      <td>30</td>\n",
       "      <td>Never-worked</td>\n",
       "      <td>176.673</td>\n",
       "      <td>HS-grad</td>\n",
       "      <td>9</td>\n",
       "      <td>Married-civ-spouse</td>\n",
       "      <td>?</td>\n",
       "      <td>Taken</td>\n",
       "      <td>Black</td>\n",
       "      <td>Female</td>\n",
       "      <td>USA</td>\n",
       "      <td>&lt;=50K</td>\n",
       "      <td>full time</td>\n",
       "      <td>0.0</td>\n",
       "    </tr>\n",
       "    <tr>\n",
       "      <th>32314</th>\n",
       "      <td>18</td>\n",
       "      <td>Never-worked</td>\n",
       "      <td>153.663</td>\n",
       "      <td>Some-college</td>\n",
       "      <td>10</td>\n",
       "      <td>Never-married</td>\n",
       "      <td>?</td>\n",
       "      <td>Single</td>\n",
       "      <td>White</td>\n",
       "      <td>Male</td>\n",
       "      <td>USA</td>\n",
       "      <td>&lt;=50K</td>\n",
       "      <td>part time</td>\n",
       "      <td>0.0</td>\n",
       "    </tr>\n",
       "  </tbody>\n",
       "</table>\n",
       "</div>"
      ],
      "text/plain": [
       "       age     workclass   fnlwgt     education  educationN  \\\n",
       "5361    18  Never-worked  206.359          10th           6   \n",
       "10845   23  Never-worked  188.535       7th-8th           4   \n",
       "14772   17  Never-worked  237.272          10th           6   \n",
       "20337   18  Never-worked  157.131          11th           7   \n",
       "32304   30  Never-worked  176.673       HS-grad           9   \n",
       "32314   18  Never-worked  153.663  Some-college          10   \n",
       "\n",
       "            maritalStatus occupation relationship   race     sex country  \\\n",
       "5361        Never-married          ?       Single  White    Male     USA   \n",
       "10845            Divorced          ?       Single  White    Male     USA   \n",
       "14772       Never-married          ?       Single  White    Male     USA   \n",
       "20337       Never-married          ?       Single  White  Female     USA   \n",
       "32304  Married-civ-spouse          ?        Taken  Black  Female     USA   \n",
       "32314       Never-married          ?       Single  White    Male     USA   \n",
       "\n",
       "      salary   timeWork  weight_change  \n",
       "5361   <=50K  full time            0.0  \n",
       "10845  <=50K  full time            0.0  \n",
       "14772  <=50K  full time            0.0  \n",
       "20337  <=50K  part time            0.0  \n",
       "32304  <=50K  full time            0.0  \n",
       "32314  <=50K  part time            0.0  "
      ]
     },
     "execution_count": 24,
     "metadata": {},
     "output_type": "execute_result"
    }
   ],
   "source": [
    "adult_clean[adult_clean.occupation == '?']"
   ]
  },
  {
   "cell_type": "code",
   "execution_count": 25,
   "metadata": {},
   "outputs": [],
   "source": [
    "adult_clean = adult_clean[adult_clean.occupation != '?']"
   ]
  },
  {
   "cell_type": "markdown",
   "metadata": {},
   "source": [
    "create column social_states and fills it poor or rich value based on his salary"
   ]
  },
  {
   "cell_type": "code",
   "execution_count": 26,
   "metadata": {},
   "outputs": [],
   "source": [
    "adult_clean = adult_clean.assign(social_status=np.nan)\n"
   ]
  },
  {
   "cell_type": "code",
   "execution_count": 27,
   "metadata": {},
   "outputs": [],
   "source": [
    "x = {'>50K' : 'Rich' , '<=50K': 'Poor'}\n",
    "def abbrev(adult):\n",
    "    if adult['salary'] in x.keys():\n",
    "        abbrecount = x[adult['salary']]\n",
    "        return abbrecount\n",
    "    else:\n",
    "        return adult['salary']\n",
    "adult_clean['social_status'] = adult_clean.apply(abbrev, axis=1)"
   ]
  },
  {
   "cell_type": "markdown",
   "metadata": {},
   "source": [
    "Delete unnecessary column"
   ]
  },
  {
   "cell_type": "code",
   "execution_count": 28,
   "metadata": {},
   "outputs": [],
   "source": [
    "adult_clean=adult_clean.drop('salary',axis=1)"
   ]
  },
  {
   "cell_type": "markdown",
   "metadata": {},
   "source": [
    "# Assess"
   ]
  },
  {
   "cell_type": "code",
   "execution_count": 29,
   "metadata": {},
   "outputs": [
    {
     "data": {
      "text/html": [
       "<div>\n",
       "<style scoped>\n",
       "    .dataframe tbody tr th:only-of-type {\n",
       "        vertical-align: middle;\n",
       "    }\n",
       "\n",
       "    .dataframe tbody tr th {\n",
       "        vertical-align: top;\n",
       "    }\n",
       "\n",
       "    .dataframe thead th {\n",
       "        text-align: right;\n",
       "    }\n",
       "</style>\n",
       "<table border=\"1\" class=\"dataframe\">\n",
       "  <thead>\n",
       "    <tr style=\"text-align: right;\">\n",
       "      <th></th>\n",
       "      <th>age</th>\n",
       "      <th>workclass</th>\n",
       "      <th>fnlwgt</th>\n",
       "      <th>education</th>\n",
       "      <th>educationN</th>\n",
       "      <th>maritalStatus</th>\n",
       "      <th>occupation</th>\n",
       "      <th>relationship</th>\n",
       "      <th>race</th>\n",
       "      <th>sex</th>\n",
       "      <th>country</th>\n",
       "      <th>timeWork</th>\n",
       "      <th>weight_change</th>\n",
       "      <th>social_status</th>\n",
       "    </tr>\n",
       "  </thead>\n",
       "  <tbody>\n",
       "    <tr>\n",
       "      <th>0</th>\n",
       "      <td>39</td>\n",
       "      <td>State-gov</td>\n",
       "      <td>77.516</td>\n",
       "      <td>Bachelors</td>\n",
       "      <td>13</td>\n",
       "      <td>Never-married</td>\n",
       "      <td>Adm-clerical</td>\n",
       "      <td>Single</td>\n",
       "      <td>White</td>\n",
       "      <td>Male</td>\n",
       "      <td>USA</td>\n",
       "      <td>full time</td>\n",
       "      <td>2.174</td>\n",
       "      <td>Poor</td>\n",
       "    </tr>\n",
       "    <tr>\n",
       "      <th>1</th>\n",
       "      <td>50</td>\n",
       "      <td>Self-emp-not-inc</td>\n",
       "      <td>83.311</td>\n",
       "      <td>Bachelors</td>\n",
       "      <td>13</td>\n",
       "      <td>Married-civ-spouse</td>\n",
       "      <td>Exec-managerial</td>\n",
       "      <td>Taken</td>\n",
       "      <td>White</td>\n",
       "      <td>Male</td>\n",
       "      <td>USA</td>\n",
       "      <td>part time</td>\n",
       "      <td>0.000</td>\n",
       "      <td>Poor</td>\n",
       "    </tr>\n",
       "    <tr>\n",
       "      <th>2</th>\n",
       "      <td>38</td>\n",
       "      <td>Private</td>\n",
       "      <td>215.646</td>\n",
       "      <td>HS-grad</td>\n",
       "      <td>9</td>\n",
       "      <td>Divorced</td>\n",
       "      <td>Handlers-cleaners</td>\n",
       "      <td>Single</td>\n",
       "      <td>White</td>\n",
       "      <td>Male</td>\n",
       "      <td>USA</td>\n",
       "      <td>full time</td>\n",
       "      <td>0.000</td>\n",
       "      <td>Poor</td>\n",
       "    </tr>\n",
       "    <tr>\n",
       "      <th>3</th>\n",
       "      <td>53</td>\n",
       "      <td>Private</td>\n",
       "      <td>234.721</td>\n",
       "      <td>11th</td>\n",
       "      <td>7</td>\n",
       "      <td>Married-civ-spouse</td>\n",
       "      <td>Handlers-cleaners</td>\n",
       "      <td>Taken</td>\n",
       "      <td>Black</td>\n",
       "      <td>Male</td>\n",
       "      <td>USA</td>\n",
       "      <td>full time</td>\n",
       "      <td>0.000</td>\n",
       "      <td>Poor</td>\n",
       "    </tr>\n",
       "    <tr>\n",
       "      <th>4</th>\n",
       "      <td>28</td>\n",
       "      <td>Private</td>\n",
       "      <td>338.409</td>\n",
       "      <td>Bachelors</td>\n",
       "      <td>13</td>\n",
       "      <td>Married-civ-spouse</td>\n",
       "      <td>Prof-specialty</td>\n",
       "      <td>Taken</td>\n",
       "      <td>Black</td>\n",
       "      <td>Female</td>\n",
       "      <td>CU</td>\n",
       "      <td>full time</td>\n",
       "      <td>0.000</td>\n",
       "      <td>Poor</td>\n",
       "    </tr>\n",
       "    <tr>\n",
       "      <th>...</th>\n",
       "      <td>...</td>\n",
       "      <td>...</td>\n",
       "      <td>...</td>\n",
       "      <td>...</td>\n",
       "      <td>...</td>\n",
       "      <td>...</td>\n",
       "      <td>...</td>\n",
       "      <td>...</td>\n",
       "      <td>...</td>\n",
       "      <td>...</td>\n",
       "      <td>...</td>\n",
       "      <td>...</td>\n",
       "      <td>...</td>\n",
       "      <td>...</td>\n",
       "    </tr>\n",
       "    <tr>\n",
       "      <th>32556</th>\n",
       "      <td>27</td>\n",
       "      <td>Private</td>\n",
       "      <td>257.302</td>\n",
       "      <td>Assoc-acdm</td>\n",
       "      <td>12</td>\n",
       "      <td>Married-civ-spouse</td>\n",
       "      <td>Tech-support</td>\n",
       "      <td>Taken</td>\n",
       "      <td>White</td>\n",
       "      <td>Female</td>\n",
       "      <td>USA</td>\n",
       "      <td>full time</td>\n",
       "      <td>0.000</td>\n",
       "      <td>Poor</td>\n",
       "    </tr>\n",
       "    <tr>\n",
       "      <th>32557</th>\n",
       "      <td>40</td>\n",
       "      <td>Private</td>\n",
       "      <td>154.374</td>\n",
       "      <td>HS-grad</td>\n",
       "      <td>9</td>\n",
       "      <td>Married-civ-spouse</td>\n",
       "      <td>Machine-op-inspct</td>\n",
       "      <td>Taken</td>\n",
       "      <td>White</td>\n",
       "      <td>Male</td>\n",
       "      <td>USA</td>\n",
       "      <td>full time</td>\n",
       "      <td>0.000</td>\n",
       "      <td>Rich</td>\n",
       "    </tr>\n",
       "    <tr>\n",
       "      <th>32558</th>\n",
       "      <td>58</td>\n",
       "      <td>Private</td>\n",
       "      <td>151.910</td>\n",
       "      <td>HS-grad</td>\n",
       "      <td>9</td>\n",
       "      <td>Widowed</td>\n",
       "      <td>Adm-clerical</td>\n",
       "      <td>Single</td>\n",
       "      <td>White</td>\n",
       "      <td>Female</td>\n",
       "      <td>USA</td>\n",
       "      <td>full time</td>\n",
       "      <td>0.000</td>\n",
       "      <td>Poor</td>\n",
       "    </tr>\n",
       "    <tr>\n",
       "      <th>32559</th>\n",
       "      <td>22</td>\n",
       "      <td>Private</td>\n",
       "      <td>201.490</td>\n",
       "      <td>HS-grad</td>\n",
       "      <td>9</td>\n",
       "      <td>Never-married</td>\n",
       "      <td>Adm-clerical</td>\n",
       "      <td>Single</td>\n",
       "      <td>White</td>\n",
       "      <td>Male</td>\n",
       "      <td>USA</td>\n",
       "      <td>part time</td>\n",
       "      <td>0.000</td>\n",
       "      <td>Poor</td>\n",
       "    </tr>\n",
       "    <tr>\n",
       "      <th>32560</th>\n",
       "      <td>52</td>\n",
       "      <td>Self-emp-inc</td>\n",
       "      <td>287.927</td>\n",
       "      <td>HS-grad</td>\n",
       "      <td>9</td>\n",
       "      <td>Married-civ-spouse</td>\n",
       "      <td>Exec-managerial</td>\n",
       "      <td>Taken</td>\n",
       "      <td>White</td>\n",
       "      <td>Female</td>\n",
       "      <td>USA</td>\n",
       "      <td>full time</td>\n",
       "      <td>15.024</td>\n",
       "      <td>Rich</td>\n",
       "    </tr>\n",
       "  </tbody>\n",
       "</table>\n",
       "<p>26882 rows × 14 columns</p>\n",
       "</div>"
      ],
      "text/plain": [
       "       age         workclass   fnlwgt   education  educationN  \\\n",
       "0       39         State-gov   77.516   Bachelors          13   \n",
       "1       50  Self-emp-not-inc   83.311   Bachelors          13   \n",
       "2       38           Private  215.646     HS-grad           9   \n",
       "3       53           Private  234.721        11th           7   \n",
       "4       28           Private  338.409   Bachelors          13   \n",
       "...    ...               ...      ...         ...         ...   \n",
       "32556   27           Private  257.302  Assoc-acdm          12   \n",
       "32557   40           Private  154.374     HS-grad           9   \n",
       "32558   58           Private  151.910     HS-grad           9   \n",
       "32559   22           Private  201.490     HS-grad           9   \n",
       "32560   52      Self-emp-inc  287.927     HS-grad           9   \n",
       "\n",
       "            maritalStatus         occupation relationship   race     sex  \\\n",
       "0           Never-married       Adm-clerical       Single  White    Male   \n",
       "1      Married-civ-spouse    Exec-managerial        Taken  White    Male   \n",
       "2                Divorced  Handlers-cleaners       Single  White    Male   \n",
       "3      Married-civ-spouse  Handlers-cleaners        Taken  Black    Male   \n",
       "4      Married-civ-spouse     Prof-specialty        Taken  Black  Female   \n",
       "...                   ...                ...          ...    ...     ...   \n",
       "32556  Married-civ-spouse       Tech-support        Taken  White  Female   \n",
       "32557  Married-civ-spouse  Machine-op-inspct        Taken  White    Male   \n",
       "32558             Widowed       Adm-clerical       Single  White  Female   \n",
       "32559       Never-married       Adm-clerical       Single  White    Male   \n",
       "32560  Married-civ-spouse    Exec-managerial        Taken  White  Female   \n",
       "\n",
       "      country   timeWork  weight_change social_status  \n",
       "0         USA  full time          2.174          Poor  \n",
       "1         USA  part time          0.000          Poor  \n",
       "2         USA  full time          0.000          Poor  \n",
       "3         USA  full time          0.000          Poor  \n",
       "4          CU  full time          0.000          Poor  \n",
       "...       ...        ...            ...           ...  \n",
       "32556     USA  full time          0.000          Poor  \n",
       "32557     USA  full time          0.000          Rich  \n",
       "32558     USA  full time          0.000          Poor  \n",
       "32559     USA  part time          0.000          Poor  \n",
       "32560     USA  full time         15.024          Rich  \n",
       "\n",
       "[26882 rows x 14 columns]"
      ]
     },
     "execution_count": 29,
     "metadata": {},
     "output_type": "execute_result"
    }
   ],
   "source": [
    "adult_clean"
   ]
  },
  {
   "cell_type": "code",
   "execution_count": 30,
   "metadata": {},
   "outputs": [
    {
     "name": "stdout",
     "output_type": "stream",
     "text": [
      "<class 'pandas.core.frame.DataFrame'>\n",
      "Int64Index: 26882 entries, 0 to 32560\n",
      "Data columns (total 14 columns):\n",
      " #   Column         Non-Null Count  Dtype   \n",
      "---  ------         --------------  -----   \n",
      " 0   age            26882 non-null  int64   \n",
      " 1   workclass      26882 non-null  object  \n",
      " 2   fnlwgt         26882 non-null  float64 \n",
      " 3   education      26882 non-null  object  \n",
      " 4   educationN     26882 non-null  int64   \n",
      " 5   maritalStatus  26882 non-null  object  \n",
      " 6   occupation     26882 non-null  object  \n",
      " 7   relationship   26882 non-null  category\n",
      " 8   race           26882 non-null  object  \n",
      " 9   sex            26882 non-null  category\n",
      " 10  country        26882 non-null  object  \n",
      " 11  timeWork       26882 non-null  object  \n",
      " 12  weight_change  26882 non-null  float64 \n",
      " 13  social_status  26882 non-null  object  \n",
      "dtypes: category(2), float64(2), int64(2), object(8)\n",
      "memory usage: 2.7+ MB\n"
     ]
    }
   ],
   "source": [
    "adult_clean.info()"
   ]
  },
  {
   "cell_type": "code",
   "execution_count": 31,
   "metadata": {},
   "outputs": [
    {
     "data": {
      "text/plain": [
       "['age',\n",
       " 'workclass',\n",
       " 'fnlwgt',\n",
       " 'education',\n",
       " 'educationN',\n",
       " 'maritalStatus',\n",
       " 'occupation',\n",
       " 'relationship',\n",
       " 'race',\n",
       " 'sex',\n",
       " 'country',\n",
       " 'timeWork',\n",
       " 'weight_change',\n",
       " 'social_status']"
      ]
     },
     "execution_count": 31,
     "metadata": {},
     "output_type": "execute_result"
    }
   ],
   "source": [
    "list(adult_clean)"
   ]
  },
  {
   "cell_type": "code",
   "execution_count": 32,
   "metadata": {},
   "outputs": [
    {
     "data": {
      "text/html": [
       "<div>\n",
       "<style scoped>\n",
       "    .dataframe tbody tr th:only-of-type {\n",
       "        vertical-align: middle;\n",
       "    }\n",
       "\n",
       "    .dataframe tbody tr th {\n",
       "        vertical-align: top;\n",
       "    }\n",
       "\n",
       "    .dataframe thead th {\n",
       "        text-align: right;\n",
       "    }\n",
       "</style>\n",
       "<table border=\"1\" class=\"dataframe\">\n",
       "  <thead>\n",
       "    <tr style=\"text-align: right;\">\n",
       "      <th></th>\n",
       "      <th>age</th>\n",
       "      <th>fnlwgt</th>\n",
       "      <th>educationN</th>\n",
       "      <th>weight_change</th>\n",
       "    </tr>\n",
       "  </thead>\n",
       "  <tbody>\n",
       "    <tr>\n",
       "      <th>count</th>\n",
       "      <td>26882.000000</td>\n",
       "      <td>26882.000000</td>\n",
       "      <td>26882.000000</td>\n",
       "      <td>26882.000000</td>\n",
       "    </tr>\n",
       "    <tr>\n",
       "      <th>mean</th>\n",
       "      <td>38.653039</td>\n",
       "      <td>178.498839</td>\n",
       "      <td>10.153560</td>\n",
       "      <td>1.010096</td>\n",
       "    </tr>\n",
       "    <tr>\n",
       "      <th>std</th>\n",
       "      <td>13.172750</td>\n",
       "      <td>72.010904</td>\n",
       "      <td>2.559294</td>\n",
       "      <td>7.460965</td>\n",
       "    </tr>\n",
       "    <tr>\n",
       "      <th>min</th>\n",
       "      <td>17.000000</td>\n",
       "      <td>40.000000</td>\n",
       "      <td>1.000000</td>\n",
       "      <td>-4.356000</td>\n",
       "    </tr>\n",
       "    <tr>\n",
       "      <th>25%</th>\n",
       "      <td>28.000000</td>\n",
       "      <td>122.382000</td>\n",
       "      <td>9.000000</td>\n",
       "      <td>0.000000</td>\n",
       "    </tr>\n",
       "    <tr>\n",
       "      <th>50%</th>\n",
       "      <td>37.000000</td>\n",
       "      <td>176.682000</td>\n",
       "      <td>10.000000</td>\n",
       "      <td>0.000000</td>\n",
       "    </tr>\n",
       "    <tr>\n",
       "      <th>75%</th>\n",
       "      <td>47.000000</td>\n",
       "      <td>222.280250</td>\n",
       "      <td>13.000000</td>\n",
       "      <td>0.000000</td>\n",
       "    </tr>\n",
       "    <tr>\n",
       "      <th>max</th>\n",
       "      <td>90.000000</td>\n",
       "      <td>349.986000</td>\n",
       "      <td>16.000000</td>\n",
       "      <td>99.999000</td>\n",
       "    </tr>\n",
       "  </tbody>\n",
       "</table>\n",
       "</div>"
      ],
      "text/plain": [
       "                age        fnlwgt    educationN  weight_change\n",
       "count  26882.000000  26882.000000  26882.000000   26882.000000\n",
       "mean      38.653039    178.498839     10.153560       1.010096\n",
       "std       13.172750     72.010904      2.559294       7.460965\n",
       "min       17.000000     40.000000      1.000000      -4.356000\n",
       "25%       28.000000    122.382000      9.000000       0.000000\n",
       "50%       37.000000    176.682000     10.000000       0.000000\n",
       "75%       47.000000    222.280250     13.000000       0.000000\n",
       "max       90.000000    349.986000     16.000000      99.999000"
      ]
     },
     "execution_count": 32,
     "metadata": {},
     "output_type": "execute_result"
    }
   ],
   "source": [
    "adult_clean.describe()"
   ]
  },
  {
   "cell_type": "code",
   "execution_count": 33,
   "metadata": {},
   "outputs": [
    {
     "data": {
      "text/html": [
       "<div>\n",
       "<style scoped>\n",
       "    .dataframe tbody tr th:only-of-type {\n",
       "        vertical-align: middle;\n",
       "    }\n",
       "\n",
       "    .dataframe tbody tr th {\n",
       "        vertical-align: top;\n",
       "    }\n",
       "\n",
       "    .dataframe thead th {\n",
       "        text-align: right;\n",
       "    }\n",
       "</style>\n",
       "<table border=\"1\" class=\"dataframe\">\n",
       "  <thead>\n",
       "    <tr style=\"text-align: right;\">\n",
       "      <th></th>\n",
       "      <th>age</th>\n",
       "      <th>workclass</th>\n",
       "      <th>fnlwgt</th>\n",
       "      <th>education</th>\n",
       "      <th>educationN</th>\n",
       "      <th>maritalStatus</th>\n",
       "      <th>occupation</th>\n",
       "      <th>relationship</th>\n",
       "      <th>race</th>\n",
       "      <th>sex</th>\n",
       "      <th>country</th>\n",
       "      <th>timeWork</th>\n",
       "      <th>weight_change</th>\n",
       "      <th>social_status</th>\n",
       "    </tr>\n",
       "  </thead>\n",
       "  <tbody>\n",
       "    <tr>\n",
       "      <th>19595</th>\n",
       "      <td>51</td>\n",
       "      <td>Private</td>\n",
       "      <td>87.205</td>\n",
       "      <td>Bachelors</td>\n",
       "      <td>13</td>\n",
       "      <td>Married-civ-spouse</td>\n",
       "      <td>Adm-clerical</td>\n",
       "      <td>Taken</td>\n",
       "      <td>White</td>\n",
       "      <td>Female</td>\n",
       "      <td>USA</td>\n",
       "      <td>part time</td>\n",
       "      <td>7.688</td>\n",
       "      <td>Rich</td>\n",
       "    </tr>\n",
       "    <tr>\n",
       "      <th>27379</th>\n",
       "      <td>40</td>\n",
       "      <td>Private</td>\n",
       "      <td>279.679</td>\n",
       "      <td>Some-college</td>\n",
       "      <td>10</td>\n",
       "      <td>Divorced</td>\n",
       "      <td>Exec-managerial</td>\n",
       "      <td>Single</td>\n",
       "      <td>White</td>\n",
       "      <td>Male</td>\n",
       "      <td>USA</td>\n",
       "      <td>over time</td>\n",
       "      <td>0.000</td>\n",
       "      <td>Poor</td>\n",
       "    </tr>\n",
       "    <tr>\n",
       "      <th>16516</th>\n",
       "      <td>45</td>\n",
       "      <td>Private</td>\n",
       "      <td>148.549</td>\n",
       "      <td>Some-college</td>\n",
       "      <td>10</td>\n",
       "      <td>Divorced</td>\n",
       "      <td>Craft-repair</td>\n",
       "      <td>Single</td>\n",
       "      <td>White</td>\n",
       "      <td>Male</td>\n",
       "      <td>USA</td>\n",
       "      <td>over time</td>\n",
       "      <td>27.828</td>\n",
       "      <td>Rich</td>\n",
       "    </tr>\n",
       "    <tr>\n",
       "      <th>16681</th>\n",
       "      <td>34</td>\n",
       "      <td>Self-emp-not-inc</td>\n",
       "      <td>276.221</td>\n",
       "      <td>10th</td>\n",
       "      <td>6</td>\n",
       "      <td>Married-civ-spouse</td>\n",
       "      <td>Farming-fishing</td>\n",
       "      <td>Taken</td>\n",
       "      <td>White</td>\n",
       "      <td>Male</td>\n",
       "      <td>USA</td>\n",
       "      <td>full time</td>\n",
       "      <td>0.000</td>\n",
       "      <td>Poor</td>\n",
       "    </tr>\n",
       "    <tr>\n",
       "      <th>23770</th>\n",
       "      <td>39</td>\n",
       "      <td>State-gov</td>\n",
       "      <td>235.379</td>\n",
       "      <td>Assoc-acdm</td>\n",
       "      <td>12</td>\n",
       "      <td>Divorced</td>\n",
       "      <td>Prof-specialty</td>\n",
       "      <td>Single</td>\n",
       "      <td>White</td>\n",
       "      <td>Female</td>\n",
       "      <td>USA</td>\n",
       "      <td>full time</td>\n",
       "      <td>0.000</td>\n",
       "      <td>Poor</td>\n",
       "    </tr>\n",
       "  </tbody>\n",
       "</table>\n",
       "</div>"
      ],
      "text/plain": [
       "       age         workclass   fnlwgt     education  educationN  \\\n",
       "19595   51           Private   87.205     Bachelors          13   \n",
       "27379   40           Private  279.679  Some-college          10   \n",
       "16516   45           Private  148.549  Some-college          10   \n",
       "16681   34  Self-emp-not-inc  276.221          10th           6   \n",
       "23770   39         State-gov  235.379    Assoc-acdm          12   \n",
       "\n",
       "            maritalStatus       occupation relationship   race     sex  \\\n",
       "19595  Married-civ-spouse     Adm-clerical        Taken  White  Female   \n",
       "27379            Divorced  Exec-managerial       Single  White    Male   \n",
       "16516            Divorced     Craft-repair       Single  White    Male   \n",
       "16681  Married-civ-spouse  Farming-fishing        Taken  White    Male   \n",
       "23770            Divorced   Prof-specialty       Single  White  Female   \n",
       "\n",
       "      country   timeWork  weight_change social_status  \n",
       "19595     USA  part time          7.688          Rich  \n",
       "27379     USA  over time          0.000          Poor  \n",
       "16516     USA  over time         27.828          Rich  \n",
       "16681     USA  full time          0.000          Poor  \n",
       "23770     USA  full time          0.000          Poor  "
      ]
     },
     "execution_count": 33,
     "metadata": {},
     "output_type": "execute_result"
    }
   ],
   "source": [
    "adult_clean.sample(5)"
   ]
  },
  {
   "cell_type": "code",
   "execution_count": 35,
   "metadata": {},
   "outputs": [],
   "source": [
    "adult_clean.to_csv(r'C:\\Users\\Dell\\Desktop\\adult_clean.csv')"
   ]
  },
  {
   "cell_type": "markdown",
   "metadata": {},
   "source": [
    "# Visualization"
   ]
  },
  {
   "cell_type": "code",
   "execution_count": 36,
   "metadata": {},
   "outputs": [],
   "source": [
    "import matplotlib.pyplot as plt\n",
    "import seaborn as sns"
   ]
  },
  {
   "cell_type": "markdown",
   "metadata": {},
   "source": [
    "view The correlation Matrix "
   ]
  },
  {
   "cell_type": "code",
   "execution_count": 37,
   "metadata": {},
   "outputs": [
    {
     "data": {
      "image/png": "[encoded data removed]",
      "text/plain": [
       "<Figure size 432x288 with 2 Axes>"
      ]
     },
     "metadata": {
      "needs_background": "light"
     },
     "output_type": "display_data"
    }
   ],
   "source": [
    "corrMatrix = adult_clean.corr()\n",
    "sns.heatmap(corrMatrix, annot=True)\n",
    "plt.show()"
   ]
  },
  {
   "cell_type": "markdown",
   "metadata": {},
   "source": [
    "View the relation between :\n",
    "    occupation and social_status --\n",
    "    relationship and social_status --\n",
    "    occupation and sex --\n",
    "    sex and relationship --\n",
    "    age and maritalStatus --\n",
    "    social_status and timeWork --\n",
    "    country and age --\n",
    "    country and race --\n",
    "    education and occupation --\n",
    "    country and social_status "
   ]
  },
  {
   "cell_type": "code",
   "execution_count": 38,
   "metadata": {},
   "outputs": [
    {
     "data": {
      "image/png": "[encoded data removed]",
      "text/plain": [
       "<Figure size 432x288 with 1 Axes>"
      ]
     },
     "metadata": {
      "needs_background": "light"
     },
     "output_type": "display_data"
    }
   ],
   "source": [
    "adult_clean.groupby(['occupation','social_status']).size().unstack().plot(kind='bar',stacked=False)\n",
    "plt.show()"
   ]
  },
  {
   "cell_type": "code",
   "execution_count": 39,
   "metadata": {},
   "outputs": [
    {
     "data": {
      "image/png": "[encoded data removed]",
      "text/plain": [
       "<Figure size 432x288 with 1 Axes>"
      ]
     },
     "metadata": {
      "needs_background": "light"
     },
     "output_type": "display_data"
    }
   ],
   "source": [
    "adult_clean.groupby(['relationship','social_status']).size().unstack().plot(kind='bar',stacked=False)\n",
    "plt.show()"
   ]
  },
  {
   "cell_type": "code",
   "execution_count": 40,
   "metadata": {},
   "outputs": [
    {
     "data": {
      "image/png": "[encoded data removed]",
      "text/plain": [
       "<Figure size 432x288 with 1 Axes>"
      ]
     },
     "metadata": {
      "needs_background": "light"
     },
     "output_type": "display_data"
    }
   ],
   "source": [
    "adult_clean.groupby(['occupation','sex']).size().unstack().plot(kind='bar',stacked=False)\n",
    "plt.show()"
   ]
  },
  {
   "cell_type": "code",
   "execution_count": 41,
   "metadata": {},
   "outputs": [
    {
     "data": {
      "image/png": "[encoded data removed]",
      "text/plain": [
       "<Figure size 432x288 with 1 Axes>"
      ]
     },
     "metadata": {
      "needs_background": "light"
     },
     "output_type": "display_data"
    }
   ],
   "source": [
    "adult_clean.groupby(['sex','relationship']).size().unstack().plot(kind='bar',stacked=False)\n",
    "plt.show()"
   ]
  },
  {
   "cell_type": "code",
   "execution_count": 42,
   "metadata": {},
   "outputs": [
    {
     "data": {
      "image/png": "[encoded data removed]",
      "text/plain": [
       "<Figure size 432x288 with 1 Axes>"
      ]
     },
     "metadata": {
      "needs_background": "light"
     },
     "output_type": "display_data"
    }
   ],
   "source": [
    "adult_clean.groupby(['age','maritalStatus']).size().unstack().plot(kind='bar',stacked=False)\n",
    "plt.show()"
   ]
  },
  {
   "cell_type": "code",
   "execution_count": 43,
   "metadata": {},
   "outputs": [
    {
     "data": {
      "image/png": "[encoded data removed]",
      "text/plain": [
       "<Figure size 432x288 with 1 Axes>"
      ]
     },
     "metadata": {
      "needs_background": "light"
     },
     "output_type": "display_data"
    }
   ],
   "source": [
    "adult_clean.groupby(['social_status','timeWork']).size().unstack().plot(kind='bar',stacked=False)\n",
    "plt.show()"
   ]
  },
  {
   "cell_type": "code",
   "execution_count": 44,
   "metadata": {},
   "outputs": [
    {
     "data": {
      "image/png": "[encoded data removed]",
      "text/plain": [
       "<Figure size 432x288 with 1 Axes>"
      ]
     },
     "metadata": {
      "needs_background": "light"
     },
     "output_type": "display_data"
    }
   ],
   "source": [
    "adult_clean.groupby(['country','race']).size().unstack().plot(kind='bar',stacked=False)\n",
    "plt.show()"
   ]
  },
  {
   "cell_type": "code",
   "execution_count": 45,
   "metadata": {},
   "outputs": [
    {
     "data": {
      "image/png": "[encoded data removed]",
      "text/plain": [
       "<Figure size 432x288 with 1 Axes>"
      ]
     },
     "metadata": {
      "needs_background": "light"
     },
     "output_type": "display_data"
    }
   ],
   "source": [
    "adult_clean.groupby(['country','social_status']).size().unstack().plot(kind='bar',stacked=False)\n",
    "plt.show()"
   ]
  },
  {
   "cell_type": "code",
   "execution_count": 46,
   "metadata": {},
   "outputs": [
    {
     "data": {
      "text/plain": [
       "<matplotlib.axes._subplots.AxesSubplot at 0x1f2d9b1a4c0>"
      ]
     },
     "execution_count": 46,
     "metadata": {},
     "output_type": "execute_result"
    },
    {
     "data": {
      "image/png": "[encoded data removed]",
      "text/plain": [
       "<Figure size 432x288 with 1 Axes>"
      ]
     },
     "metadata": {
      "needs_background": "light"
     },
     "output_type": "display_data"
    }
   ],
   "source": [
    "adult_clean.boxplot(by ='country', column =['age'], grid = False)"
   ]
  },
  {
   "cell_type": "code",
   "execution_count": 47,
   "metadata": {},
   "outputs": [
    {
     "data": {
      "text/plain": [
       "<matplotlib.axes._subplots.AxesSubplot at 0x1f2da073df0>"
      ]
     },
     "execution_count": 47,
     "metadata": {},
     "output_type": "execute_result"
    },
    {
     "data": {
      "image/png": "[encoded data removed]",
      "text/plain": [
       "<Figure size 432x288 with 1 Axes>"
      ]
     },
     "metadata": {
      "needs_background": "light"
     },
     "output_type": "display_data"
    }
   ],
   "source": [
    "adult_clean.boxplot(by ='occupation', column =['educationN'], grid = False)"
   ]
  },
  {
   "cell_type": "code",
   "execution_count": 48,
   "metadata": {},
   "outputs": [
    {
     "data": {
      "text/plain": [
       "<matplotlib.axes._subplots.AxesSubplot at 0x1f2da0737c0>"
      ]
     },
     "execution_count": 48,
     "metadata": {},
     "output_type": "execute_result"
    },
    {
     "data": {
      "image/png": "[encoded data removed]",
      "text/plain": [
       "<Figure size 432x288 with 1 Axes>"
      ]
     },
     "metadata": {
      "needs_background": "light"
     },
     "output_type": "display_data"
    }
   ],
   "source": [
    "adult_clean.plot(kind = \"box\")"
   ]
  },
  {
   "cell_type": "markdown",
   "metadata": {},
   "source": [
    "# Classification"
   ]
  },
  {
   "cell_type": "markdown",
   "metadata": {},
   "source": [
    "Get copy From clean DataFrame"
   ]
  },
  {
   "cell_type": "code",
   "execution_count": 49,
   "metadata": {},
   "outputs": [],
   "source": [
    "adult_classification = adult_clean.copy()"
   ]
  },
  {
   "cell_type": "code",
   "execution_count": 50,
   "metadata": {},
   "outputs": [],
   "source": [
    "from sklearn.preprocessing import LabelEncoder\n",
    "labelEncoder = LabelEncoder()"
   ]
  },
  {
   "cell_type": "markdown",
   "metadata": {},
   "source": [
    "Getting data ready for classification by transforming data into specific interval "
   ]
  },
  {
   "cell_type": "code",
   "execution_count": 51,
   "metadata": {},
   "outputs": [],
   "source": [
    "adult_classification['maritalStatus'] = labelEncoder.fit_transform(adult_classification['maritalStatus'])\n",
    "adult_classification['relationship'] = labelEncoder.fit_transform(adult_classification['relationship'])\n",
    "adult_classification['race'] = labelEncoder.fit_transform(adult_classification['race'])\n",
    "adult_classification['sex'] = labelEncoder.fit_transform(adult_classification['sex'])\n",
    "adult_classification['timeWork'] = labelEncoder.fit_transform(adult_classification['timeWork'])\n",
    "adult_classification['social_status'] = labelEncoder.fit_transform(adult_classification['social_status'])"
   ]
  },
  {
   "cell_type": "code",
   "execution_count": 52,
   "metadata": {},
   "outputs": [],
   "source": [
    "adult_classification['age']=pd.cut(x=adult_classification['age'],bins=[16.000000,28.000000,37.000000,47.000000,90.000000],labels=[0,1,2,3])\n",
    "adult_classification['age']=adult_classification['age'].astype('float64')\n",
    "\n",
    "adult_classification['fnlwgt']=pd.cut(x=adult_classification['fnlwgt'],bins=[39.000000,122.382000,176.682000,222.280250,349.986000],labels=[0,1,2,3])\n",
    "adult_classification['fnlwgt']=adult_classification['fnlwgt'].astype('float64')\n",
    "\n",
    "adult_classification['educationN']=pd.cut(x=adult_classification['educationN'],bins=[0.000000,9.000000,10.000000,13.000000,16.000000],labels=[0,1,2,3])\n",
    "adult_classification['educationN']=adult_classification['educationN'].astype('float64')"
   ]
  },
  {
   "cell_type": "markdown",
   "metadata": {},
   "source": [
    "Delete some columns That will not be used in a classification"
   ]
  },
  {
   "cell_type": "code",
   "execution_count": 53,
   "metadata": {},
   "outputs": [],
   "source": [
    "adult_classification = adult_classification.drop('country', axis=1)\n",
    "adult_classification = adult_classification.drop('occupation', axis=1)\n",
    "adult_classification = adult_classification.drop('education', axis=1)\n",
    "adult_classification = adult_classification.drop('workclass', axis=1)\n",
    "adult_classification = adult_classification.drop('weight_change', axis=1)"
   ]
  },
  {
   "cell_type": "markdown",
   "metadata": {},
   "source": [
    "number of rows and columns"
   ]
  },
  {
   "cell_type": "code",
   "execution_count": 54,
   "metadata": {},
   "outputs": [
    {
     "name": "stdout",
     "output_type": "stream",
     "text": [
      "(26882, 9)\n"
     ]
    }
   ],
   "source": [
    "print(adult_classification.shape)"
   ]
  },
  {
   "cell_type": "markdown",
   "metadata": {},
   "source": [
    "Divide the data into two parts"
   ]
  },
  {
   "cell_type": "code",
   "execution_count": 55,
   "metadata": {},
   "outputs": [],
   "source": [
    "feature_df = adult_classification[['age', 'educationN', 'fnlwgt','maritalStatus','relationship', 'race','sex','timeWork' ]]\n",
    "x = np.asarray(feature_df)\n",
    "y = np.asarray(adult_classification['social_status'])"
   ]
  },
  {
   "cell_type": "code",
   "execution_count": 56,
   "metadata": {},
   "outputs": [],
   "source": [
    "from sklearn.model_selection import train_test_split"
   ]
  },
  {
   "cell_type": "markdown",
   "metadata": {},
   "source": [
    "Using the train test split package"
   ]
  },
  {
   "cell_type": "code",
   "execution_count": 57,
   "metadata": {},
   "outputs": [],
   "source": [
    "x_train,x_test,y_train,y_test=train_test_split(x,y,test_size=0.2,random_state=0)"
   ]
  },
  {
   "cell_type": "code",
   "execution_count": 58,
   "metadata": {},
   "outputs": [],
   "source": [
    "from sklearn.ensemble import RandomForestClassifier\n",
    "from sklearn.datasets import make_classification\n",
    "from sklearn import metrics\n"
   ]
  },
  {
   "cell_type": "markdown",
   "metadata": {},
   "source": [
    "calculate the accuracy for x_test and y_test"
   ]
  },
  {
   "cell_type": "code",
   "execution_count": 59,
   "metadata": {},
   "outputs": [
    {
     "name": "stdout",
     "output_type": "stream",
     "text": [
      "accuracy:  0.8121629161242329\n"
     ]
    }
   ],
   "source": [
    "model=RandomForestClassifier()\n",
    "model.fit(x_train,y_train)\n",
    "print('accuracy: ',model.score(x_test,y_test))"
   ]
  },
  {
   "cell_type": "markdown",
   "metadata": {},
   "source": [
    "calculate the accuracy for y_test and y_pred"
   ]
  },
  {
   "cell_type": "code",
   "execution_count": 68,
   "metadata": {},
   "outputs": [
    {
     "name": "stdout",
     "output_type": "stream",
     "text": [
      "[[3665  356]\n",
      " [ 654  702]]\n"
     ]
    }
   ],
   "source": [
    "y_pred=model.predict(x_test)\n",
    "cm_matrix=confusion_matrix(y_test,y_pred)\n",
    "print(cm_matrix)"
   ]
  },
  {
   "cell_type": "code",
   "execution_count": 61,
   "metadata": {},
   "outputs": [],
   "source": [
    "from sklearn.metrics import confusion_matrix\n"
   ]
  },
  {
   "cell_type": "markdown",
   "metadata": {},
   "source": [
    "get the confusing matrix for y_test and y_pred"
   ]
  },
  {
   "cell_type": "code",
   "execution_count": 69,
   "metadata": {},
   "outputs": [
    {
     "name": "stdout",
     "output_type": "stream",
     "text": [
      "accuracy:  0.8121629161242329\n"
     ]
    }
   ],
   "source": [
    "print(\"accuracy: \", metrics.accuracy_score(y_test,y_pred))"
   ]
  },
  {
   "cell_type": "markdown",
   "metadata": {},
   "source": [
    "view the heatMap for confusing matrix"
   ]
  },
  {
   "cell_type": "code",
   "execution_count": 70,
   "metadata": {},
   "outputs": [
    {
     "data": {
      "text/plain": [
       "<matplotlib.axes._subplots.AxesSubplot at 0x1f2dc90b2e0>"
      ]
     },
     "execution_count": 70,
     "metadata": {},
     "output_type": "execute_result"
    },
    {
     "data": {
      "image/png": "[encoded data removed]",
      "text/plain": [
       "<Figure size 432x288 with 2 Axes>"
      ]
     },
     "metadata": {
      "needs_background": "light"
     },
     "output_type": "display_data"
    }
   ],
   "source": [
    "sns.heatmap(cm_matrix,annot=True,fmt='d',cmap='YlGnBu')"
   ]
  },
  {
   "cell_type": "code",
   "execution_count": 73,
   "metadata": {},
   "outputs": [],
   "source": [
    "from sklearn import svm\n",
    "from sklearn.metrics import classification_report"
   ]
  },
  {
   "cell_type": "code",
   "execution_count": 74,
   "metadata": {},
   "outputs": [
    {
     "name": "stdout",
     "output_type": "stream",
     "text": [
      "              precision    recall  f1-score   support\n",
      "\n",
      "           0       0.84      0.92      0.88      4021\n",
      "           1       0.68      0.49      0.57      1356\n",
      "\n",
      "    accuracy                           0.81      5377\n",
      "   macro avg       0.76      0.71      0.73      5377\n",
      "weighted avg       0.80      0.81      0.80      5377\n",
      "\n"
     ]
    }
   ],
   "source": [
    "classifier=svm.SVC(kernel='linear',gamma='auto',C=2)\n",
    "classifier.fit(x_train,y_train)\n",
    "y_pred=classifier.predict(x_test)\n",
    "print(classification_report(y_test,y_pred))"
   ]
  }
 ],
 "metadata": {
  "kernelspec": {
   "display_name": "Python 3",
   "language": "python",
   "name": "python3"
  },
  "language_info": {
   "codemirror_mode": {
    "name": "ipython",
    "version": 3
   },
   "file_extension": ".py",
   "mimetype": "text/x-python",
   "name": "python",
   "nbconvert_exporter": "python",
   "pygments_lexer": "ipython3",
   "version": "3.8.3"
  }
 },
 "nbformat": 4,
 "nbformat_minor": 4
}
